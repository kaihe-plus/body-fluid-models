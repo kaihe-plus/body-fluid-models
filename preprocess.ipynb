{
 "cells": [
  {
   "cell_type": "markdown",
   "metadata": {
    "pycharm": {
     "name": "#%% md\n"
    }
   },
   "source": [
    "# Construction of the **PUSec17** dataset"
   ]
  },
  {
   "cell_type": "code",
   "execution_count": 1,
   "metadata": {
    "pycharm": {
     "name": "#%%\n"
    }
   },
   "outputs": [],
   "source": [
    "import os\n",
    "import os.path as osp\n",
    "import pickle\n",
    "import re\n",
    "\n",
    "import numpy as np\n",
    "import pandas as pd\n",
    "from sklearn.impute import SimpleImputer\n",
    "\n",
    "folder = r'D:\\dataset'\n",
    "raw_dir = 'human-body-fluid-protein-raw-20211126'\n",
    "save_dir = 'BodyFluidData-20220912'\n",
    "\n",
    "raw_path = osp.join(folder, raw_dir)\n",
    "save_path = osp.join(folder, save_dir)\n",
    "if not osp.exists(save_path):\n",
    "    os.mkdir(save_path)"
   ]
  },
  {
   "cell_type": "markdown",
   "metadata": {
    "pycharm": {
     "name": "#%% md\n"
    }
   },
   "source": [
    "### Protein features"
   ]
  },
  {
   "cell_type": "code",
   "execution_count": 2,
   "metadata": {
    "pycharm": {
     "name": "#%%\n"
    }
   },
   "outputs": [
    {
     "name": "stdout",
     "output_type": "stream",
     "text": [
      "['A0A584', 'Q9BXU3', 'Q15031', 'Q6PKC3', 'P42681']\n",
      "Number of proteins that have feature data: 20373\n"
     ]
    }
   ],
   "source": [
    "feat_df = pd.read_csv(osp.join(raw_path, 'protein-attribute.csv'), index_col='id')\n",
    "feat_df.head()\n",
    "\n",
    "feat_pro = list(feat_df.iloc[:, 0])\n",
    "print(feat_pro[:5])\n",
    "print('Number of proteins that have feature data:', len(feat_df))"
   ]
  },
  {
   "cell_type": "markdown",
   "metadata": {
    "pycharm": {
     "name": "#%% md\n"
    }
   },
   "source": [
    "### Protein sequences"
   ]
  },
  {
   "cell_type": "code",
   "execution_count": 3,
   "metadata": {
    "pycharm": {
     "name": "#%%\n"
    }
   },
   "outputs": [
    {
     "name": "stdout",
     "output_type": "stream",
     "text": [
      "['A0A024RBG1', 'A0A075B6H9', 'A0A075B6I0', 'A0A075B6I1', 'A0A075B6I4']\n",
      "Number of proteins that have sequence data: 20396\n"
     ]
    }
   ],
   "source": [
    "seq_df = pd.read_csv(osp.join(raw_path, 'protein-sequence.csv'), index_col='id')\n",
    "seq_df.head()\n",
    "\n",
    "seq_pro = list(seq_df.iloc[:, 0])\n",
    "print(seq_pro[:5])\n",
    "print('Number of proteins that have sequence data:', len(seq_df))"
   ]
  },
  {
   "cell_type": "markdown",
   "metadata": {
    "pycharm": {
     "name": "#%% md\n"
    }
   },
   "source": [
    "### The PSSM matrix"
   ]
  },
  {
   "cell_type": "code",
   "execution_count": 4,
   "metadata": {
    "pycharm": {
     "name": "#%%\n"
    }
   },
   "outputs": [
    {
     "name": "stdout",
     "output_type": "stream",
     "text": [
      "number of pssm records: 20383\n",
      "['A0A024RBG1', 'A0A075B6H9', 'A0A075B6I0', 'A0A075B6I1', 'A0A075B6I4']\n"
     ]
    }
   ],
   "source": [
    "pssm_files = os.listdir(osp.join(raw_path, 'protein-pssm'))\n",
    "pssm_pro = [str(file).split('.')[0] for file in pssm_files]\n",
    "print('number of pssm records:', len(pssm_pro))\n",
    "print(pssm_pro[: 5])"
   ]
  },
  {
   "cell_type": "code",
   "execution_count": 5,
   "metadata": {
    "pycharm": {
     "name": "#%%\n"
    }
   },
   "outputs": [
    {
     "name": "stdout",
     "output_type": "stream",
     "text": [
      "Number of proteins that have all three kinds of data: 20345\n"
     ]
    }
   ],
   "source": [
    "pro_set = set(feat_pro) & set(seq_pro) & set(pssm_pro)\n",
    "pro_list = sorted(pro_set)\n",
    "num_pros = len(pro_list)\n",
    "print('Number of proteins that have all three kinds of data:', num_pros)"
   ]
  },
  {
   "cell_type": "markdown",
   "metadata": {
    "pycharm": {
     "name": "#%% md\n"
    }
   },
   "source": [
    "### The records of secreted proteins"
   ]
  },
  {
   "cell_type": "code",
   "execution_count": 6,
   "metadata": {
    "pycharm": {
     "name": "#%%\n"
    }
   },
   "outputs": [
    {
     "name": "stdout",
     "output_type": "stream",
     "text": [
      "Number of secreted protein records: 46206\n"
     ]
    }
   ],
   "source": [
    "sec_df = pd.read_excel(\n",
    "    osp.join(raw_path, 'fluid-protein-information.xlsx')\n",
    ")\n",
    "uni_seq_df = sec_df.loc[:, ['编号', '体液编号']].drop_duplicates()\n",
    "uni_seq_df.head()\n",
    "print('Number of secreted protein records:', len(uni_seq_df))"
   ]
  },
  {
   "cell_type": "code",
   "execution_count": 7,
   "metadata": {
    "pycharm": {
     "name": "#%%\n"
    }
   },
   "outputs": [
    {
     "name": "stdout",
     "output_type": "stream",
     "text": [
      "   Fluid names  Number of secreted proteins\n",
      "1       Plasma                         6822\n",
      "2       Saliva                         2758\n",
      "3        Urine                         7330\n",
      "4          CSF                         4366\n",
      "5      Seminal                         4084\n",
      "6     Amniotic                         3025\n",
      "7         Tear                         1980\n",
      "8         BALF                         3434\n",
      "9         Milk                         2457\n",
      "10    Synovial                         1642\n",
      "11         NAF                         1734\n",
      "12         CVF                          949\n",
      "13          PE                         1519\n",
      "14      Sputum                         1809\n",
      "15         EBC                          351\n",
      "16          PJ                          702\n",
      "17       Sweat                         1244\n"
     ]
    }
   ],
   "source": [
    "fluid_names = [\n",
    "    'Plasma', 'Saliva', 'Urine', 'CSF', 'Seminal',\n",
    "    'Amniotic', 'Tear', 'BALF', 'Milk', 'Synovial',\n",
    "    'NAF', 'CVF', 'PE', 'Sputum', 'EBC', 'PJ', 'Sweat'\n",
    "]\n",
    "num_fluids = len(fluid_names)\n",
    "\n",
    "id_counts = pd.value_counts(uni_seq_df.iloc[:, 1]).sort_index()\n",
    "fluid_counts = pd.DataFrame(\n",
    "    {\n",
    "        'Fluid names': fluid_names,\n",
    "        'Number of secreted proteins': id_counts\n",
    "    }\n",
    ")\n",
    "print(fluid_counts)"
   ]
  },
  {
   "cell_type": "markdown",
   "metadata": {
    "pycharm": {
     "name": "#%% md\n"
    }
   },
   "source": [
    "### Extract the secreted proteins as positive dataset"
   ]
  },
  {
   "cell_type": "code",
   "execution_count": 8,
   "metadata": {
    "pycharm": {
     "name": "#%%\n"
    }
   },
   "outputs": [
    {
     "name": "stdout",
     "output_type": "stream",
     "text": [
      "1 Plasma 6798 ['A0A075B6H9', 'A0A075B6I0', 'A0A075B6I1']\n",
      "2 Saliva 2744 ['A0A075B6I0', 'A0A075B6I4', 'A0A075B6K4']\n",
      "3 Urine 7305 ['A0A075B6H9', 'A0A075B6I0', 'A0A075B6I9']\n",
      "4 CSF 4350 ['A0A075B6I0', 'A0A075B6K4', 'A0A075B6S5']\n",
      "5 Seminal 4066 ['A0A024RBG1', 'A0A0B4J2D5', 'A0AV96']\n",
      "6 Amniotic 3013 ['A0A075B6I0', 'A0A075B6K4', 'A0A075B6K5']\n",
      "7 Tear 1971 ['A0A075B6I0', 'A0A075B6J9', 'A0A075B6K4']\n",
      "8 BALF 3415 ['A0A075B6I0', 'A0A075B6I1', 'A0A075B6J9']\n",
      "9 Milk 2444 ['A0A075B6K4', 'A0A075B6K5', 'A0A075B6P5']\n",
      "10 Synovial 1636 ['A0A075B6I0', 'A0A075B6I9', 'A0A075B6J9']\n",
      "11 NAF 1723 ['A0A075B6H9', 'A0A0C4DH29', 'A0A0C4DH32']\n",
      "12 CVF 944 ['A0A075B6I0', 'A0A075B6J9', 'A0A075B6K4']\n",
      "13 PE 1514 ['A0A0A0MRZ8', 'A0A0B4J1V0', 'A0A5B9']\n",
      "14 Sputum 1803 ['A0A075B6K6', 'A0A0C4DH67', 'A0A0C4DH72']\n",
      "15 EBC 350 ['A6NCN2', 'A8K2U0', 'O00299']\n",
      "16 PJ 697 ['A6NGU5', 'A6NMY6', 'A8K2U0']\n",
      "17 Sweat 1234 ['A0A0B4J1Y9', 'A0A0J9YVY3', 'A0FGR8']\n"
     ]
    }
   ],
   "source": [
    "P_pro_list = []\n",
    "for i in range(1, num_fluids + 1):\n",
    "    mask = uni_seq_df.iloc[:, 1] == i\n",
    "    i_pro_set = set(\n",
    "        uni_seq_df.iloc[mask.values, 0].tolist()\n",
    "    )\n",
    "    P_pro = sorted(\n",
    "        i_pro_set & pro_set\n",
    "    )\n",
    "    P_pro_list.append(P_pro)\n",
    "    print(i, fluid_names[i-1], len(P_pro), P_pro[:3])"
   ]
  },
  {
   "cell_type": "markdown",
   "metadata": {
    "pycharm": {
     "name": "#%% md\n"
    }
   },
   "source": [
    "The PUSec17 dataset is constructed to compare PU methods with the previous traditional methods.\n",
    "\n",
    "To enable this, the negative datasets should be generated by protein families. And then, the negative datasets for previous methods are included in the new PU datasets.\n",
    "\n",
    "Dataset: positive dataset, fake negative dataset, and unknown dataset.\n",
    "\n",
    "The traditional methods are trained with positive and fake negative datasets. And the PU methods are trained with positive and unlabeled datasets, where the unlabeled dataset consists of fake negative and unknown datasets.\n",
    "\n",
    "Both the traditional methods and PU methods are evaluated on the full independent test dataset."
   ]
  },
  {
   "cell_type": "code",
   "execution_count": 9,
   "metadata": {
    "pycharm": {
     "name": "#%%\n"
    }
   },
   "outputs": [
    {
     "name": "stdout",
     "output_type": "stream",
     "text": [
      "Number of no family proteins: 2104\n",
      "Number of families: 6216\n"
     ]
    }
   ],
   "source": [
    "pfam_df = pd.read_csv(osp.join(raw_path, 'protein-family.csv'), index_col='id')\n",
    "pfam_df.head()\n",
    "\n",
    "pfam_dict = {}\n",
    "nofam_list = []\n",
    "for _, (pro, fams) in pfam_df.iterrows():\n",
    "    if isinstance(fams, str):\n",
    "        for fam in fams.split(';')[:-1]:\n",
    "            if fam in pfam_dict.keys():\n",
    "                pfam_dict[fam].append(pro)\n",
    "            else:\n",
    "                pfam_dict[fam] = [pro]\n",
    "    else:\n",
    "        nofam_list.append(pro)\n",
    "print('Number of no family proteins:', len(nofam_list))\n",
    "print('Number of families:', len(pfam_dict.keys()))"
   ]
  },
  {
   "cell_type": "code",
   "execution_count": 10,
   "metadata": {
    "pycharm": {
     "name": "#%%\n"
    }
   },
   "outputs": [
    {
     "name": "stdout",
     "output_type": "stream",
     "text": [
      "0 Plasma 6798 5067\n",
      "1 Saliva 2744 8433\n",
      "2 Urine 7305 5008\n",
      "3 CSF 4350 6573\n",
      "4 Seminal 4066 7593\n",
      "5 Amniotic 3013 9138\n",
      "6 Tear 1971 10057\n",
      "7 BALF 3415 7785\n",
      "8 Milk 2444 7651\n",
      "9 Synovial 1636 10075\n",
      "10 NAF 1723 10275\n",
      "11 CVF 944 12569\n",
      "12 PE 1514 9466\n",
      "13 Sputum 1803 9914\n",
      "14 EBC 350 15480\n",
      "15 PJ 697 13485\n",
      "16 Sweat 1234 12170\n"
     ]
    }
   ],
   "source": [
    "FN_pro_list = []  # Fake negative datasets\n",
    "for i in range(num_fluids):\n",
    "    P_pro = P_pro_list[i]\n",
    "    P_pro_set = set(P_pro)\n",
    "    FN_pro = []\n",
    "\n",
    "    for pro in pro_list:\n",
    "        if pro in P_pro_set:\n",
    "            continue\n",
    "        \n",
    "        for fam in pfam_dict.keys():\n",
    "            i_fam_set = set(\n",
    "                pfam_dict[fam]\n",
    "            )\n",
    "            inter_set = P_pro_set & i_fam_set\n",
    "            if pro in i_fam_set and len(inter_set) > 0:\n",
    "                break\n",
    "        else:\n",
    "            FN_pro.append(pro)\n",
    "    \n",
    "    FN_pro_list.append(FN_pro)\n",
    "    print(i, fluid_names[i], len(P_pro), len(FN_pro))"
   ]
  },
  {
   "cell_type": "markdown",
   "metadata": {
    "pycharm": {
     "name": "#%% md\n"
    }
   },
   "source": [
    "Filter the redundant proteins with CD-HIT (90%)."
   ]
  },
  {
   "cell_type": "code",
   "execution_count": 11,
   "metadata": {
    "pycharm": {
     "name": "#%%\n"
    }
   },
   "outputs": [
    {
     "name": "stdout",
     "output_type": "stream",
     "text": [
      "CD-HIT(90): 19394\n"
     ]
    }
   ],
   "source": [
    "cdhit90 = []\n",
    "with open(osp.join(raw_path, 'cdhit90.fasta'), 'r') as f:\n",
    "    for row in f.readlines():\n",
    "        if row.startswith('>'):\n",
    "            pro = str(row[1:-1])\n",
    "            cdhit90.append(pro)\n",
    "cdhit90_set = set(cdhit90)\n",
    "print('CD-HIT(90):', len(cdhit90))"
   ]
  },
  {
   "cell_type": "code",
   "execution_count": 12,
   "metadata": {
    "pycharm": {
     "name": "#%%\n"
    }
   },
   "outputs": [
    {
     "name": "stdout",
     "output_type": "stream",
     "text": [
      "Plasma 6798 5067 6530 4856 7972\n",
      "Saliva 2744 8433 2521 8048 8789\n",
      "Urine 7305 5008 6972 4760 7626\n",
      "CSF 4350 6573 4082 6281 8995\n",
      "Seminal 4066 7593 3929 7230 8199\n",
      "Amniotic 3013 9138 2876 8725 7757\n",
      "Tear 1971 10057 1843 9597 7918\n",
      "BALF 3415 7785 3241 7392 8725\n",
      "Milk 2444 7651 2324 7333 9701\n",
      "Synovial 1636 10075 1525 9624 8209\n",
      "NAF 1723 10275 1640 9800 7918\n",
      "CVF 944 12569 877 12062 6419\n",
      "PE 1514 9466 1437 9087 8834\n",
      "Sputum 1803 9914 1696 9515 8147\n",
      "EBC 350 15480 326 14903 4129\n",
      "PJ 697 13485 646 12957 5755\n",
      "Sweat 1234 12170 1162 11660 6536\n"
     ]
    }
   ],
   "source": [
    "new_P_pro_list = []\n",
    "new_FN_pro_list = []\n",
    "unknown_pro_list = []\n",
    "for fluid_name, P_pro, FN_pro in zip(fluid_names, P_pro_list, FN_pro_list):\n",
    "\n",
    "    P_pro_set = set(P_pro)\n",
    "    FN_pro_set = set(FN_pro)\n",
    "\n",
    "    P_len = len(P_pro)\n",
    "    FN_len = len(FN_pro)\n",
    "\n",
    "    new_P_pro = sorted(\n",
    "        P_pro_set & cdhit90_set\n",
    "    )\n",
    "    new_FN_pro_set = FN_pro_set & cdhit90_set\n",
    "    new_FN_pro = sorted(new_FN_pro_set)\n",
    "    unknown_pro = sorted(\n",
    "        (pro_set - P_pro_set - new_FN_pro_set) & cdhit90_set\n",
    "    )\n",
    "\n",
    "    new_P_len = len(new_P_pro)\n",
    "    new_FN_len = len(new_FN_pro)\n",
    "    unknown_len = len(unknown_pro)\n",
    "\n",
    "    new_P_pro_list.append(new_P_pro)\n",
    "    new_FN_pro_list.append(new_FN_pro)\n",
    "    unknown_pro_list.append(unknown_pro)\n",
    "\n",
    "    print(fluid_name, P_len, FN_len, new_P_len, new_FN_len, unknown_len)"
   ]
  },
  {
   "cell_type": "code",
   "execution_count": 13,
   "metadata": {
    "pycharm": {
     "name": "#%%\n"
    }
   },
   "outputs": [
    {
     "data": {
      "text/html": [
       "<div>\n",
       "<style scoped>\n",
       "    .dataframe tbody tr th:only-of-type {\n",
       "        vertical-align: middle;\n",
       "    }\n",
       "\n",
       "    .dataframe tbody tr th {\n",
       "        vertical-align: top;\n",
       "    }\n",
       "\n",
       "    .dataframe thead th {\n",
       "        text-align: right;\n",
       "    }\n",
       "</style>\n",
       "<table border=\"1\" class=\"dataframe\">\n",
       "  <thead>\n",
       "    <tr style=\"text-align: right;\">\n",
       "      <th></th>\n",
       "      <th>Positive</th>\n",
       "      <th>Negative</th>\n",
       "      <th>Unknown</th>\n",
       "      <th>Unlabeled</th>\n",
       "    </tr>\n",
       "    <tr>\n",
       "      <th>Fluid</th>\n",
       "      <th></th>\n",
       "      <th></th>\n",
       "      <th></th>\n",
       "      <th></th>\n",
       "    </tr>\n",
       "  </thead>\n",
       "  <tbody>\n",
       "    <tr>\n",
       "      <th>Plasma</th>\n",
       "      <td>6530</td>\n",
       "      <td>4856</td>\n",
       "      <td>7972</td>\n",
       "      <td>12828</td>\n",
       "    </tr>\n",
       "    <tr>\n",
       "      <th>Saliva</th>\n",
       "      <td>2521</td>\n",
       "      <td>8048</td>\n",
       "      <td>8789</td>\n",
       "      <td>16837</td>\n",
       "    </tr>\n",
       "    <tr>\n",
       "      <th>Urine</th>\n",
       "      <td>6972</td>\n",
       "      <td>4760</td>\n",
       "      <td>7626</td>\n",
       "      <td>12386</td>\n",
       "    </tr>\n",
       "    <tr>\n",
       "      <th>CSF</th>\n",
       "      <td>4082</td>\n",
       "      <td>6281</td>\n",
       "      <td>8995</td>\n",
       "      <td>15276</td>\n",
       "    </tr>\n",
       "    <tr>\n",
       "      <th>Seminal</th>\n",
       "      <td>3929</td>\n",
       "      <td>7230</td>\n",
       "      <td>8199</td>\n",
       "      <td>15429</td>\n",
       "    </tr>\n",
       "    <tr>\n",
       "      <th>Amniotic</th>\n",
       "      <td>2876</td>\n",
       "      <td>8725</td>\n",
       "      <td>7757</td>\n",
       "      <td>16482</td>\n",
       "    </tr>\n",
       "    <tr>\n",
       "      <th>Tear</th>\n",
       "      <td>1843</td>\n",
       "      <td>9597</td>\n",
       "      <td>7918</td>\n",
       "      <td>17515</td>\n",
       "    </tr>\n",
       "    <tr>\n",
       "      <th>BALF</th>\n",
       "      <td>3241</td>\n",
       "      <td>7392</td>\n",
       "      <td>8725</td>\n",
       "      <td>16117</td>\n",
       "    </tr>\n",
       "    <tr>\n",
       "      <th>Milk</th>\n",
       "      <td>2324</td>\n",
       "      <td>7333</td>\n",
       "      <td>9701</td>\n",
       "      <td>17034</td>\n",
       "    </tr>\n",
       "    <tr>\n",
       "      <th>Synovial</th>\n",
       "      <td>1525</td>\n",
       "      <td>9624</td>\n",
       "      <td>8209</td>\n",
       "      <td>17833</td>\n",
       "    </tr>\n",
       "    <tr>\n",
       "      <th>NAF</th>\n",
       "      <td>1640</td>\n",
       "      <td>9800</td>\n",
       "      <td>7918</td>\n",
       "      <td>17718</td>\n",
       "    </tr>\n",
       "    <tr>\n",
       "      <th>CVF</th>\n",
       "      <td>877</td>\n",
       "      <td>12062</td>\n",
       "      <td>6419</td>\n",
       "      <td>18481</td>\n",
       "    </tr>\n",
       "    <tr>\n",
       "      <th>PE</th>\n",
       "      <td>1437</td>\n",
       "      <td>9087</td>\n",
       "      <td>8834</td>\n",
       "      <td>17921</td>\n",
       "    </tr>\n",
       "    <tr>\n",
       "      <th>Sputum</th>\n",
       "      <td>1696</td>\n",
       "      <td>9515</td>\n",
       "      <td>8147</td>\n",
       "      <td>17662</td>\n",
       "    </tr>\n",
       "    <tr>\n",
       "      <th>EBC</th>\n",
       "      <td>326</td>\n",
       "      <td>14903</td>\n",
       "      <td>4129</td>\n",
       "      <td>19032</td>\n",
       "    </tr>\n",
       "    <tr>\n",
       "      <th>PJ</th>\n",
       "      <td>646</td>\n",
       "      <td>12957</td>\n",
       "      <td>5755</td>\n",
       "      <td>18712</td>\n",
       "    </tr>\n",
       "    <tr>\n",
       "      <th>Sweat</th>\n",
       "      <td>1162</td>\n",
       "      <td>11660</td>\n",
       "      <td>6536</td>\n",
       "      <td>18196</td>\n",
       "    </tr>\n",
       "  </tbody>\n",
       "</table>\n",
       "</div>"
      ],
      "text/plain": [
       "          Positive  Negative  Unknown  Unlabeled\n",
       "Fluid                                           \n",
       "Plasma        6530      4856     7972      12828\n",
       "Saliva        2521      8048     8789      16837\n",
       "Urine         6972      4760     7626      12386\n",
       "CSF           4082      6281     8995      15276\n",
       "Seminal       3929      7230     8199      15429\n",
       "Amniotic      2876      8725     7757      16482\n",
       "Tear          1843      9597     7918      17515\n",
       "BALF          3241      7392     8725      16117\n",
       "Milk          2324      7333     9701      17034\n",
       "Synovial      1525      9624     8209      17833\n",
       "NAF           1640      9800     7918      17718\n",
       "CVF            877     12062     6419      18481\n",
       "PE            1437      9087     8834      17921\n",
       "Sputum        1696      9515     8147      17662\n",
       "EBC            326     14903     4129      19032\n",
       "PJ             646     12957     5755      18712\n",
       "Sweat         1162     11660     6536      18196"
      ]
     },
     "execution_count": 13,
     "metadata": {},
     "output_type": "execute_result"
    }
   ],
   "source": [
    "P_len_list = [len(P_pro) for P_pro in new_P_pro_list]\n",
    "FN_len_list = [len(FN_pro) for FN_pro in new_FN_pro_list]\n",
    "unknown_len_list = [len(unknown_pro) for unknown_pro in unknown_pro_list]\n",
    "U_len_list = [FN_len+unknown_len for FN_len, unknown_len in zip(FN_len_list, unknown_len_list)]\n",
    "\n",
    "ds_info = pd.DataFrame(\n",
    "    {\n",
    "        'Positive': P_len_list,\n",
    "        'Negative': FN_len_list,\n",
    "        'Unknown': unknown_len_list,\n",
    "        'Unlabeled': U_len_list\n",
    "    },\n",
    "    index=fluid_names\n",
    ")\n",
    "ds_info.index.name = 'Fluid'\n",
    "ds_info.to_csv(osp.join(save_path, 'dataset-info.csv'))\n",
    "ds_info"
   ]
  },
  {
   "cell_type": "markdown",
   "metadata": {
    "pycharm": {
     "name": "#%% md\n"
    }
   },
   "source": [
    "## Process the protein features"
   ]
  },
  {
   "cell_type": "code",
   "execution_count": 14,
   "metadata": {
    "pycharm": {
     "name": "#%%\n"
    }
   },
   "outputs": [
    {
     "data": {
      "text/plain": [
       "array([[0.   , 0.   , 0.05 , 0.011, 4.   ],\n",
       "       [0.   , 0.   , 0.153, 0.017, 1.   ],\n",
       "       [0.   , 0.   , 0.235, 0.025, 0.   ],\n",
       "       [0.   , 0.   , 0.148, 0.017, 1.   ],\n",
       "       [0.   , 0.   , 0.157, 0.009, 2.   ]])"
      ]
     },
     "execution_count": 14,
     "metadata": {},
     "output_type": "execute_result"
    }
   ],
   "source": [
    "feat_df2 = feat_df.set_index('accession')\n",
    "feat_values = feat_df2.loc[pro_list, :].values\n",
    "feat_data = SimpleImputer(strategy='median').fit_transform(feat_values)\n",
    "\n",
    "with open(osp.join(save_path, 'pro-attr.pkl'), 'wb') as f:\n",
    "    pickle.dump(feat_data, f)\n",
    "\n",
    "feat_data[:5, :5]"
   ]
  },
  {
   "cell_type": "code",
   "execution_count": 15,
   "metadata": {
    "pycharm": {
     "name": "#%%\n"
    }
   },
   "outputs": [
    {
     "data": {
      "text/plain": [
       "['MMKFKPNQTRTYDREGFKKRAACLCFRSEQEDEVLLVSSSRYPDQWIVPGGGMEPEEEPGGAAVREVYEEAGVKGKLGRLLGIFEQNQDRKHRTYVYVLTVTEILEDWEDSVNIGRKREWFKVEDAIKVLQCHKPVHAEYLEKLKLGCSPANGNSTVPSLPDNNALFVTAAQTSGLPSSVR',\n",
       " 'MAWTPLLFLTLLLHCTGSLSQLVLTQSPSASASLGASVKLTCTLSSGHSSYAIAWHQQQPEKGPRYLMKLNSDGSHSKGDGIPDRFSGSSSGAERYLTISSLQSEDEADYYCQTWGTGI',\n",
       " 'MSVPTMAWMMLLLGLLAYGSGVDSQTVVTQEPSFSVSPGGTVTLTCGLSSGSVSTSYYPSWYQQTPGQAPRTLIYSTNTRSSGVPDRFSGSILGNKAALTITGAQADDESDYYCVLYMGSGI',\n",
       " 'MAWTPLLLLFPLLLHCTGSLSQPVLTQSSSASASLGSSVKLTCTLSSGHSSYIIAWHQQQPGKAPRYLMKLEGSGSYNKGSGVPDRFSGSSSGADRYLTISNLQFEDEADYYCETWDSNT',\n",
       " 'MPWALLLLTLLTHSAVSVVQAGLTQPPSVSKGLRQTATLTCTGNSNIVGNQGAAWLQQHQGHPPKLLSYRNNNRPSGISERFSASRSGNTASLTITGLQPEDEADYYCSALDSSLSA']"
      ]
     },
     "execution_count": 15,
     "metadata": {},
     "output_type": "execute_result"
    }
   ],
   "source": [
    "seq_df2 = seq_df.set_index('accession')\n",
    "seq_df3 = seq_df2.loc[pro_list, 'sequence']\n",
    "seq_data = seq_df3.tolist()\n",
    "\n",
    "with open(osp.join(save_path, 'pro-seq.pkl'), 'wb') as f:\n",
    "    pickle.dump(seq_data, f)\n",
    "\n",
    "seq_data[:5]"
   ]
  },
  {
   "cell_type": "code",
   "execution_count": 16,
   "metadata": {
    "pycharm": {
     "name": "#%%\n"
    }
   },
   "outputs": [
    {
     "data": {
      "text/plain": [
       "[array([[-4, -5, -6, ..., -5, -4, -2],\n",
       "        [-3, -5, -5, ..., -5, -4,  5],\n",
       "        [ 0, -1, -1, ..., -6, -4, -4],\n",
       "        ...,\n",
       "        [-1, -3,  0, ..., -5, -4, -3],\n",
       "        [ 1, -2, -3, ..., -4, -2,  3],\n",
       "        [-3,  6, -2, ..., -4, -3, -4]]),\n",
       " array([[-5, -5, -6, ..., -5, -5, -3],\n",
       "        [ 6, -4, -4, ..., -5, -4, -2],\n",
       "        [-7, -3, -8, ..., 13, -2, -7],\n",
       "        ...,\n",
       "        [-2, -1,  1, ..., -4, -3, -4],\n",
       "        [-2, -4,  4, ..., -6, -5, -5],\n",
       "        [-2, -4, -5, ..., -3, -2,  2]]),\n",
       " array([[-1, -3, -3, ..., -3, -2,  3],\n",
       "        [ 0, -1, -1, ..., -3, -2, -1],\n",
       "        [-1, -3, -2, ..., -3, -2,  3],\n",
       "        ...,\n",
       "        [-2, -2,  3, ..., -6, -5, -5],\n",
       "        [ 2, -3,  3, ..., -4, -1, -3],\n",
       "        [-2, -3, -4, ..., -3, -2,  3]]),\n",
       " array([[-5, -5, -6, ..., -5, -5, -3],\n",
       "        [ 6, -4, -4, ..., -5, -4, -2],\n",
       "        [-7, -3, -8, ..., 13, -2, -7],\n",
       "        ...,\n",
       "        [-2, -1,  1, ..., -5, -2, -4],\n",
       "        [-2, -2,  4, ..., -6, -5, -5],\n",
       "        [-1, -3, -1, ..., -5, -4, -3]]),\n",
       " array([[-4, -5, -5, ..., -5, -4, -2],\n",
       "        [ 6, -4, -3, ..., -5, -4, -2],\n",
       "        [-6, -2, -7, ..., 13, -1, -6],\n",
       "        ...,\n",
       "        [-1, -3, -2, ..., -2,  2, -1],\n",
       "        [-1,  0,  4, ..., -5, -3, -4],\n",
       "        [ 5, -3, -3, ..., -4, -4, -3]])]"
      ]
     },
     "execution_count": 16,
     "metadata": {},
     "output_type": "execute_result"
    }
   ],
   "source": [
    "pssm_data = []\n",
    "for pro in pro_list:\n",
    "    iter_pssm = []\n",
    "    with open(osp.join(raw_path, 'protein-pssm', '{:s}.pssm'.format(pro)), 'r') as f:\n",
    "        for line in f.readlines():\n",
    "            split = re.split(r'\\s+', line)\n",
    "            if len(split) > 42:\n",
    "                values = [int(value) for value in split[3:23]]\n",
    "                iter_pssm.append(values)\n",
    "    iter_pssm = np.array(iter_pssm, dtype=np.int32)\n",
    "    pssm_data.append(iter_pssm)\n",
    "\n",
    "with open(osp.join(save_path, 'pro-pssm.pkl'), 'wb') as f:\n",
    "    pickle.dump(pssm_data, f)\n",
    "\n",
    "pssm_data[:5]"
   ]
  },
  {
   "cell_type": "markdown",
   "metadata": {
    "pycharm": {
     "name": "#%% md\n"
    }
   },
   "source": [
    "## Data splits\n",
    "\n",
    "The dataset corresponding to each fluid is divided into train, valid, and test datasets with the propotion as 60%, 20%, and 20%."
   ]
  },
  {
   "cell_type": "code",
   "execution_count": 17,
   "metadata": {
    "pycharm": {
     "name": "#%%\n"
    }
   },
   "outputs": [
    {
     "data": {
      "text/html": [
       "<div>\n",
       "<style scoped>\n",
       "    .dataframe tbody tr th:only-of-type {\n",
       "        vertical-align: middle;\n",
       "    }\n",
       "\n",
       "    .dataframe tbody tr th {\n",
       "        vertical-align: top;\n",
       "    }\n",
       "\n",
       "    .dataframe thead th {\n",
       "        text-align: right;\n",
       "    }\n",
       "</style>\n",
       "<table border=\"1\" class=\"dataframe\">\n",
       "  <thead>\n",
       "    <tr style=\"text-align: right;\">\n",
       "      <th></th>\n",
       "      <th>length</th>\n",
       "      <th>indices</th>\n",
       "    </tr>\n",
       "  </thead>\n",
       "  <tbody>\n",
       "    <tr>\n",
       "      <th>A0A024RBG1</th>\n",
       "      <td>181</td>\n",
       "      <td>0</td>\n",
       "    </tr>\n",
       "    <tr>\n",
       "      <th>A0A075B6H9</th>\n",
       "      <td>119</td>\n",
       "      <td>1</td>\n",
       "    </tr>\n",
       "    <tr>\n",
       "      <th>A0A075B6I0</th>\n",
       "      <td>122</td>\n",
       "      <td>2</td>\n",
       "    </tr>\n",
       "    <tr>\n",
       "      <th>A0A075B6I1</th>\n",
       "      <td>120</td>\n",
       "      <td>3</td>\n",
       "    </tr>\n",
       "    <tr>\n",
       "      <th>A0A075B6I4</th>\n",
       "      <td>117</td>\n",
       "      <td>4</td>\n",
       "    </tr>\n",
       "  </tbody>\n",
       "</table>\n",
       "</div>"
      ],
      "text/plain": [
       "            length  indices\n",
       "A0A024RBG1     181        0\n",
       "A0A075B6H9     119        1\n",
       "A0A075B6I0     122        2\n",
       "A0A075B6I1     120        3\n",
       "A0A075B6I4     117        4"
      ]
     },
     "execution_count": 17,
     "metadata": {},
     "output_type": "execute_result"
    }
   ],
   "source": [
    "pro_len = seq_df3.apply(len)\n",
    "len_with_indices = pd.DataFrame({\n",
    "    'length': pro_len,\n",
    "    'indices': list(range(0, num_pros))\n",
    "}, index=pro_list)\n",
    "len_with_indices.head()"
   ]
  },
  {
   "cell_type": "code",
   "execution_count": 18,
   "metadata": {
    "pycharm": {
     "name": "#%%\n"
    }
   },
   "outputs": [
    {
     "name": "stdout",
     "output_type": "stream",
     "text": [
      "Plasma: train(3918, 2914, 4784), valid(1306, 971, 1594) test(1306, 971, 1594), eval(13815), sum(19358)\n",
      "Saliva: train(1513, 4830, 5274), valid(504, 1609, 1758) test(504, 1609, 1757), eval(17824), sum(19358)\n",
      "Urine: train(4184, 2856, 4576), valid(1394, 952, 1525) test(1394, 952, 1525), eval(13373), sum(19358)\n",
      "CSF: train(2450, 3769, 5397), valid(816, 1256, 1799) test(816, 1256, 1799), eval(16263), sum(19358)\n",
      "Seminal: train(2358, 4338, 4920), valid(786, 1446, 1640) test(785, 1446, 1639), eval(16416), sum(19358)\n",
      "Amniotic: train(1726, 5235, 4655), valid(575, 1745, 1551) test(575, 1745, 1551), eval(17469), sum(19358)\n",
      "Tear: train(1107, 5759, 4752), valid(368, 1919, 1583) test(368, 1919, 1583), eval(18502), sum(19358)\n",
      "BALF: train(1945, 4436, 5235), valid(648, 1478, 1745) test(648, 1478, 1745), eval(17104), sum(19358)\n",
      "Milk: train(1395, 4401, 5821), valid(465, 1466, 1940) test(464, 1466, 1940), eval(18021), sum(19358)\n",
      "Synovial: train(915, 5775, 4926), valid(305, 1925, 1642) test(305, 1924, 1641), eval(18820), sum(19358)\n",
      "NAF: train(984, 5880, 4752), valid(328, 1960, 1583) test(328, 1960, 1583), eval(18705), sum(19358)\n",
      "CVF: train(527, 7238, 3852), valid(175, 2412, 1284) test(175, 2412, 1283), eval(19468), sum(19358)\n",
      "PE: train(863, 5453, 5301), valid(287, 1817, 1767) test(287, 1817, 1766), eval(18908), sum(19358)\n",
      "Sputum: train(1018, 5709, 4889), valid(339, 1903, 1629) test(339, 1903, 1629), eval(18649), sum(19358)\n",
      "EBC: train(196, 8943, 2478), valid(65, 2980, 826) test(65, 2980, 825), eval(20019), sum(19358)\n",
      "PJ: train(388, 7775, 3453), valid(129, 2591, 1151) test(129, 2591, 1151), eval(19699), sum(19358)\n",
      "Sweat: train(698, 6996, 3922), valid(232, 2332, 1307) test(232, 2332, 1307), eval(19183), sum(19358)\n"
     ]
    }
   ],
   "source": [
    "splits = {}\n",
    "\n",
    "for fluid_name, P_pro, FN_pro, unknown_pro in zip(fluid_names, new_P_pro_list, new_FN_pro_list, unknown_pro_list):\n",
    "    tr_pos_index = []\n",
    "    tr_neg_index = []\n",
    "    tr_unknown_index = []\n",
    "\n",
    "    va_pos_index = []\n",
    "    va_neg_index = []\n",
    "    va_unknown_index = []\n",
    "\n",
    "    te_pos_index = []\n",
    "    te_neg_index = []\n",
    "    te_unknown_index = []\n",
    "\n",
    "    pos_with_indices = len_with_indices.loc[P_pro].sort_values(by='length')\n",
    "    for i, index in enumerate(pos_with_indices.indices):\n",
    "        rest = i % 5\n",
    "        if rest <= 2:\n",
    "            # 0, 1, 2 for train\n",
    "            tr_pos_index.append(index)\n",
    "        elif rest <= 3:\n",
    "            # 3 for valid\n",
    "            va_pos_index.append(index)\n",
    "        else:\n",
    "            # 4 for test\n",
    "            te_pos_index.append(index)\n",
    "\n",
    "    neg_with_indices = len_with_indices.loc[FN_pro].sort_values(by='length')\n",
    "    for i, index in enumerate(neg_with_indices.indices):\n",
    "        rest = i % 5\n",
    "        if rest <= 2:\n",
    "            tr_neg_index.append(index)\n",
    "        elif rest <= 3:\n",
    "            va_neg_index.append(index)\n",
    "        else:\n",
    "            te_neg_index.append(index)\n",
    "    \n",
    "    unknown_with_indices = len_with_indices.loc[unknown_pro].sort_values(by='length')\n",
    "    for i, index in enumerate(unknown_with_indices.indices):\n",
    "        rest = i % 5\n",
    "        if rest <= 2:\n",
    "            tr_unknown_index.append(index)\n",
    "        elif rest <= 3:\n",
    "            va_unknown_index.append(index)\n",
    "        else:\n",
    "            te_unknown_index.append(index)\n",
    "    \n",
    "    P_pro_set = set(P_pro)\n",
    "    eval_pro = sorted(pro_set - P_pro_set)\n",
    "\n",
    "    eval_index = len_with_indices.loc[eval_pro, 'indices'].tolist()\n",
    "    \n",
    "    tr_pos_len = len(tr_pos_index)\n",
    "    tr_neg_len = len(tr_neg_index)\n",
    "    tr_unknown_len = len(tr_unknown_index)\n",
    "    va_pos_len = len(va_pos_index)\n",
    "    va_neg_len = len(va_neg_index)\n",
    "    va_unknown_len = len(va_unknown_index)\n",
    "    te_pos_len = len(te_pos_index)\n",
    "    te_neg_len = len(te_neg_index)\n",
    "    te_unknown_len = len(te_unknown_index)\n",
    "\n",
    "    tr_len = tr_pos_len + tr_neg_len + tr_unknown_len\n",
    "    va_len = va_pos_len + va_neg_len + va_unknown_len\n",
    "    te_len = te_pos_len + te_neg_len + te_unknown_len\n",
    "    eval_len = len(eval_index)\n",
    "    \n",
    "    num_sum = tr_len + va_len + te_len\n",
    "\n",
    "    print('{:s}: train({:d}, {:d}, {:d}), valid({:d}, {:d}, {:d}) test({:d}, {:d}, {:d}), eval({:d}), sum({:d})'\n",
    "          .format(fluid_name, tr_pos_len, tr_neg_len, tr_unknown_len,\n",
    "                  va_pos_len, va_neg_len, va_unknown_len,\n",
    "                  te_pos_len, te_neg_len, te_unknown_len, eval_len, num_sum))\n",
    "    \n",
    "    splits[fluid_name] = {\n",
    "        'tr_pos': np.array(tr_pos_index, dtype=np.int32),\n",
    "        'tr_neg': np.array(tr_neg_index, dtype=np.int32),\n",
    "        'tr_unknown': np.array(tr_unknown_index, dtype=np.int32),\n",
    "        'va_pos': np.array(va_pos_index, dtype=np.int32),\n",
    "        'va_neg': np.array(va_neg_index, dtype=np.int32),\n",
    "        'va_unknown': np.array(va_unknown_index, dtype=np.int32),\n",
    "        'te_pos': np.array(te_pos_index, dtype=np.int32),\n",
    "        'te_neg': np.array(te_neg_index, dtype=np.int32),\n",
    "        'te_unknown': np.array(te_unknown_index, dtype=np.int32),\n",
    "        'eval': np.array(eval_index, dtype=np.int32)\n",
    "    }\n",
    "\n",
    "with open(osp.join(save_path, 'fluid-splits.pkl'), 'wb') as f:\n",
    "    pickle.dump(splits, f)\n",
    "    pickle.dump(pro_list, f)"
   ]
  }
 ],
 "metadata": {
  "kernelspec": {
   "display_name": "Python 3.9.10 ('pytorch')",
   "language": "python",
   "name": "python3"
  },
  "language_info": {
   "codemirror_mode": {
    "name": "ipython",
    "version": 3
   },
   "file_extension": ".py",
   "mimetype": "text/x-python",
   "name": "python",
   "nbconvert_exporter": "python",
   "pygments_lexer": "ipython3",
   "version": "3.9.10"
  },
  "varInspector": {
   "cols": {
    "lenName": 16,
    "lenType": 16,
    "lenVar": 40
   },
   "kernels_config": {
    "python": {
     "delete_cmd_postfix": "",
     "delete_cmd_prefix": "del ",
     "library": "var_list.py",
     "varRefreshCmd": "print(var_dic_list())"
    },
    "r": {
     "delete_cmd_postfix": ") ",
     "delete_cmd_prefix": "rm(",
     "library": "var_list.r",
     "varRefreshCmd": "cat(var_dic_list()) "
    }
   },
   "types_to_exclude": [
    "module",
    "function",
    "builtin_function_or_method",
    "instance",
    "_Feature"
   ],
   "window_display": false
  },
  "vscode": {
   "interpreter": {
    "hash": "b4e461941a1313a9bf7cd57daa708d8c2653e1f907ba3a2f0aae87fd9136e46e"
   }
  }
 },
 "nbformat": 4,
 "nbformat_minor": 4
}
